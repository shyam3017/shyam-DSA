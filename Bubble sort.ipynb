{
 "cells": [
  {
   "cell_type": "code",
   "execution_count": 3,
   "id": "095898a7",
   "metadata": {},
   "outputs": [
    {
     "name": "stdout",
     "output_type": "stream",
     "text": [
      "[0, 1, 4, 5, 6, 44, 63, 87, 99, 283]\n"
     ]
    }
   ],
   "source": [
    "# Bubble sort\n",
    "\n",
    "nums = [99, 44, 6, 1, 5, 63, 87, 283, 4, 0]\n",
    "\n",
    "def bubbleSort(arr):\n",
    "    length = len(arr)\n",
    "    for i in range(length):\n",
    "        for j in range(length - 1):\n",
    "            if arr[j] > arr[j + 1]:\n",
    "                temp = arr[j]\n",
    "                arr[j] = arr[j + 1]\n",
    "                arr[j + 1] = temp\n",
    "    \n",
    "    return arr\n",
    "\n",
    "print(bubbleSort(nums))"
   ]
  },
  {
   "cell_type": "markdown",
   "id": "69f99120",
   "metadata": {},
   "source": [
    "#### Time complexity of bubble sort\n",
    "\n",
    "    Best case - O(n)\n",
    "    Average case - O(n^2)\n",
    "    Worst case - O(n^2)\n",
    "\n",
    "#### Space complexity of bubble sort\n",
    "\n",
    "    O(1)"
   ]
  },
  {
   "cell_type": "code",
   "execution_count": null,
   "id": "8dbd70ec",
   "metadata": {},
   "outputs": [],
   "source": []
  }
 ],
 "metadata": {
  "kernelspec": {
   "display_name": "Python 3 (ipykernel)",
   "language": "python",
   "name": "python3"
  },
  "language_info": {
   "codemirror_mode": {
    "name": "ipython",
    "version": 3
   },
   "file_extension": ".py",
   "mimetype": "text/x-python",
   "name": "python",
   "nbconvert_exporter": "python",
   "pygments_lexer": "ipython3",
   "version": "3.10.9"
  }
 },
 "nbformat": 4,
 "nbformat_minor": 5
}
