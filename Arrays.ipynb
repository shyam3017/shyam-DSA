{
 "cells": [
  {
   "cell_type": "code",
   "execution_count": 16,
   "id": "3d04da78",
   "metadata": {},
   "outputs": [
    {
     "data": {
      "text/plain": [
       "'d'"
      ]
     },
     "execution_count": 16,
     "metadata": {},
     "output_type": "execute_result"
    }
   ],
   "source": [
    "strings = ['a', 'b', 'c', 'd']\n",
    "strings[3]"
   ]
  },
  {
   "cell_type": "code",
   "execution_count": 17,
   "id": "c05307df",
   "metadata": {},
   "outputs": [
    {
     "data": {
      "text/plain": [
       "['a', 'b', 'c', 'd', 'e']"
      ]
     },
     "execution_count": 17,
     "metadata": {},
     "output_type": "execute_result"
    }
   ],
   "source": [
    "#adding element\n",
    "strings.append('e')\n",
    "strings"
   ]
  },
  {
   "cell_type": "code",
   "execution_count": 18,
   "id": "7c11a9fd",
   "metadata": {},
   "outputs": [
    {
     "data": {
      "text/plain": [
       "['a', 'b', 'c', 'd', 'e', 's', 'd', 's']"
      ]
     },
     "execution_count": 18,
     "metadata": {},
     "output_type": "execute_result"
    }
   ],
   "source": [
    "#adding iterables\n",
    "strings.extend(['s', 'd', 's'])\n",
    "strings"
   ]
  },
  {
   "cell_type": "code",
   "execution_count": 21,
   "id": "7d53466e",
   "metadata": {},
   "outputs": [
    {
     "data": {
      "text/plain": [
       "['z', 'a', 'b', 'c', 'd', 's', 'd', 's']"
      ]
     },
     "execution_count": 21,
     "metadata": {},
     "output_type": "execute_result"
    }
   ],
   "source": [
    "#pop\n",
    "strings.pop(5)\n",
    "strings"
   ]
  },
  {
   "cell_type": "code",
   "execution_count": 38,
   "id": "47a1e8fd",
   "metadata": {},
   "outputs": [
    {
     "data": {
      "text/plain": [
       "['z', 'b', 'c', 'd', 'd', 's', 's', 'z']"
      ]
     },
     "execution_count": 38,
     "metadata": {},
     "output_type": "execute_result"
    }
   ],
   "source": [
    "#inserting\n",
    "strings.insert(0, 'z')\n",
    "strings"
   ]
  },
  {
   "cell_type": "code",
   "execution_count": 51,
   "id": "3a181234",
   "metadata": {},
   "outputs": [
    {
     "data": {
      "text/plain": [
       "['d', 'd', 's', 's', 'z', 'z']"
      ]
     },
     "execution_count": 51,
     "metadata": {},
     "output_type": "execute_result"
    }
   ],
   "source": [
    "#slicing\n",
    "strings[2:]"
   ]
  },
  {
   "cell_type": "code",
   "execution_count": 59,
   "id": "2a14e2aa",
   "metadata": {},
   "outputs": [],
   "source": [
    "#remove\n",
    "strings.remove('s')"
   ]
  },
  {
   "cell_type": "code",
   "execution_count": 60,
   "id": "dc8f23ca",
   "metadata": {},
   "outputs": [
    {
     "data": {
      "text/plain": [
       "['z', 'z', 's', 'd', 'd', 'c', 'b']"
      ]
     },
     "execution_count": 60,
     "metadata": {},
     "output_type": "execute_result"
    }
   ],
   "source": [
    "strings"
   ]
  },
  {
   "cell_type": "code",
   "execution_count": 61,
   "id": "a35e4174",
   "metadata": {},
   "outputs": [
    {
     "data": {
      "text/plain": [
       "0"
      ]
     },
     "execution_count": 61,
     "metadata": {},
     "output_type": "execute_result"
    }
   ],
   "source": [
    "#index\n",
    "strings.index('z')"
   ]
  },
  {
   "cell_type": "code",
   "execution_count": 62,
   "id": "40fdd3cd",
   "metadata": {},
   "outputs": [
    {
     "data": {
      "text/plain": [
       "1"
      ]
     },
     "execution_count": 62,
     "metadata": {},
     "output_type": "execute_result"
    }
   ],
   "source": [
    "#count of elements\n",
    "strings.count('s')"
   ]
  },
  {
   "cell_type": "code",
   "execution_count": 63,
   "id": "cc16e3c8",
   "metadata": {},
   "outputs": [],
   "source": [
    "#sorting\n",
    "strings.sort()"
   ]
  },
  {
   "cell_type": "code",
   "execution_count": 64,
   "id": "46421911",
   "metadata": {},
   "outputs": [
    {
     "data": {
      "text/plain": [
       "['b', 'c', 'd', 'd', 's', 'z', 'z']"
      ]
     },
     "execution_count": 64,
     "metadata": {},
     "output_type": "execute_result"
    }
   ],
   "source": [
    "strings\n"
   ]
  },
  {
   "cell_type": "code",
   "execution_count": 65,
   "id": "d35f1b54",
   "metadata": {},
   "outputs": [],
   "source": [
    "strings.sort(reverse=True)"
   ]
  },
  {
   "cell_type": "code",
   "execution_count": 66,
   "id": "a1cad82e",
   "metadata": {},
   "outputs": [
    {
     "data": {
      "text/plain": [
       "['z', 'z', 's', 'd', 'd', 'c', 'b']"
      ]
     },
     "execution_count": 66,
     "metadata": {},
     "output_type": "execute_result"
    }
   ],
   "source": [
    "strings"
   ]
  },
  {
   "cell_type": "code",
   "execution_count": 67,
   "id": "f6e44b65",
   "metadata": {},
   "outputs": [
    {
     "data": {
      "text/plain": [
       "['b', 'c', 'd', 'd', 's', 'z', 'z']"
      ]
     },
     "execution_count": 67,
     "metadata": {},
     "output_type": "execute_result"
    }
   ],
   "source": [
    "#reverse\n",
    "strings.reverse()\n",
    "strings"
   ]
  },
  {
   "cell_type": "code",
   "execution_count": 68,
   "id": "38eb8228",
   "metadata": {},
   "outputs": [
    {
     "data": {
      "text/plain": [
       "['b', 'c', 'd', 'd', 's', 'z', 'z']"
      ]
     },
     "execution_count": 68,
     "metadata": {},
     "output_type": "execute_result"
    }
   ],
   "source": [
    "#copy of string\n",
    "str1 = strings.copy()\n",
    "str1"
   ]
  },
  {
   "cell_type": "code",
   "execution_count": 69,
   "id": "0cf6378b",
   "metadata": {},
   "outputs": [
    {
     "data": {
      "text/plain": [
       "['b', 'c', 'd', 'd', 's', 'z', 'z']"
      ]
     },
     "execution_count": 69,
     "metadata": {},
     "output_type": "execute_result"
    }
   ],
   "source": [
    "str2 = str1\n",
    "str2"
   ]
  },
  {
   "cell_type": "code",
   "execution_count": 70,
   "id": "9793a073",
   "metadata": {},
   "outputs": [],
   "source": [
    "# static and Dynamic arrays\n",
    "#In python arrays are usally dynamic. The dynamic arrays expands as we add the elements"
   ]
  },
  {
   "cell_type": "code",
   "execution_count": 71,
   "id": "0ee94bf4",
   "metadata": {},
   "outputs": [],
   "source": [
    "# ARRAYS\n",
    "# HOW TO BUILD AN ARRAY ?\n",
    "# HOW TO USE IT ?"
   ]
  },
  {
   "cell_type": "code",
   "execution_count": 103,
   "id": "7d90a956",
   "metadata": {},
   "outputs": [
    {
     "name": "stdout",
     "output_type": "stream",
     "text": [
      "3\n",
      "['hi', \"I'm\", 'shyam']\n"
     ]
    }
   ],
   "source": [
    "# BUILDING AN ARRAY\n",
    "class MyArray:\n",
    "    def __init__(self):\n",
    "        self.length = 0\n",
    "        self.data = []\n",
    "    \n",
    "    def getItem(self, index):\n",
    "        return self.data[index]\n",
    "        \n",
    "    def push(self, item):\n",
    "        self.length += 1\n",
    "        self.data.append(item)\n",
    "        \n",
    "    def pop(self):\n",
    "        self.length -= 1\n",
    "        return self.data.pop()\n",
    "    \n",
    "    def insert(self, index, item):\n",
    "        self.data.insert(index, item)\n",
    "        self.length += 1\n",
    "    \n",
    "    def delete(self, index):\n",
    "        del self.data[index]\n",
    "        self.length -= 1\n",
    "        \n",
    "                \n",
    "\n",
    "\n",
    "array1 = MyArray()\n",
    "array1.push('hi')\n",
    "array1.push(\"'I'm\")\n",
    "array1.push(\"shyam\")\n",
    "array1.delete(1)\n",
    "array1.insert(1, \"I'm\")\n",
    "print(array1.length)\n",
    "print(array1.data)\n",
    "        "
   ]
  },
  {
   "cell_type": "code",
   "execution_count": 10,
   "id": "ecf27473",
   "metadata": {},
   "outputs": [
    {
     "data": {
      "text/plain": [
       "'htam olleh'"
      ]
     },
     "execution_count": 10,
     "metadata": {},
     "output_type": "execute_result"
    }
   ],
   "source": [
    "#Reversing a string\n",
    "def reverse(str):\n",
    "    if len(str) < 2:\n",
    "        return str\n",
    "    res = ''\n",
    "    for i in range(len(str) - 1, -1, -1):\n",
    "        res += str[i]\n",
    "    return res\n",
    "\n",
    "reverse('hello math')"
   ]
  },
  {
   "cell_type": "code",
   "execution_count": 14,
   "id": "5e3bba59",
   "metadata": {},
   "outputs": [
    {
     "data": {
      "text/plain": [
       "'gfedcba'"
      ]
     },
     "execution_count": 14,
     "metadata": {},
     "output_type": "execute_result"
    }
   ],
   "source": [
    "def reverse1(str):\n",
    "    return ''.join(reversed(str))\n",
    "\n",
    "reverse1('abcdefg')"
   ]
  },
  {
   "cell_type": "code",
   "execution_count": 15,
   "id": "403c7d8e",
   "metadata": {},
   "outputs": [
    {
     "data": {
      "text/plain": [
       "'1234567890'"
      ]
     },
     "execution_count": 15,
     "metadata": {},
     "output_type": "execute_result"
    }
   ],
   "source": [
    "def reverse2(str):\n",
    "    return str[::-1]\n",
    "\n",
    "reverse2('0987654321')"
   ]
  },
  {
   "cell_type": "code",
   "execution_count": 2,
   "id": "9025b70c",
   "metadata": {},
   "outputs": [
    {
     "data": {
      "text/plain": [
       "'0987654321'"
      ]
     },
     "execution_count": 2,
     "metadata": {},
     "output_type": "execute_result"
    }
   ],
   "source": [
    "def reverseRecurse(str):\n",
    "    if len(str) == 0:\n",
    "        return str\n",
    "    return reverseRecurse(str[1:]) + str[0]\n",
    "\n",
    "reverseRecurse('1234567890')"
   ]
  },
  {
   "cell_type": "code",
   "execution_count": 6,
   "id": "a229809b",
   "metadata": {},
   "outputs": [
    {
     "data": {
      "text/plain": [
       "[0, 3, 4, 4, 6, 30, 31]"
      ]
     },
     "execution_count": 6,
     "metadata": {},
     "output_type": "execute_result"
    }
   ],
   "source": [
    "#merge sorted arrays [0, 3, 4, 31], [4, 6, 30]\n",
    "#[0, 3, 4, 4, 6, 31, 30]\n",
    "def merge(list1, list2):\n",
    "    if not list1:\n",
    "        return list2\n",
    "    if not list2:\n",
    "        return  list1\n",
    "    l, r = 0, 0\n",
    "    res = []\n",
    "    while l < len(list1) and r < len(list2):\n",
    "        if list1[l] < list2[r]:\n",
    "            res.append(list1[l])\n",
    "            l += 1\n",
    "        elif list1[l] > list2[r]:\n",
    "            res.append(list2[r])\n",
    "            r += 1\n",
    "        else:\n",
    "            res.extend([list1[l], list2[r]])\n",
    "            l += 1\n",
    "            r += 1\n",
    "    if list1:\n",
    "        res += list1[l:]\n",
    "    if list2:\n",
    "        res += list2[r:]\n",
    "    \n",
    "    return res\n",
    "\n",
    "merge([0, 3, 4, 31], [4, 6, 30])"
   ]
  },
  {
   "cell_type": "code",
   "execution_count": 8,
   "id": "16a4f93b",
   "metadata": {},
   "outputs": [
    {
     "data": {
      "text/plain": [
       "[0, 3, 4, 4, 6, 30, 31]"
      ]
     },
     "execution_count": 8,
     "metadata": {},
     "output_type": "execute_result"
    }
   ],
   "source": [
    "def merge1(list1, list2):\n",
    "    list1 = list1 + list2\n",
    "    return sorted(list1)\n",
    "\n",
    "merge1([0, 3, 4, 31], [4, 6, 30])"
   ]
  },
  {
   "cell_type": "code",
   "execution_count": 1,
   "id": "c87a6b3c",
   "metadata": {},
   "outputs": [
    {
     "name": "stdout",
     "output_type": "stream",
     "text": [
      "48\n"
     ]
    }
   ],
   "source": [
    "a = 24\n",
    "v = 24\n",
    "print(a + v)"
   ]
  },
  {
   "cell_type": "code",
   "execution_count": 11,
   "id": "5e398c24",
   "metadata": {},
   "outputs": [
    {
     "name": "stdout",
     "output_type": "stream",
     "text": [
      "7\n"
     ]
    }
   ],
   "source": []
  },
  {
   "cell_type": "code",
   "execution_count": null,
   "id": "a565a7b7",
   "metadata": {},
   "outputs": [],
   "source": []
  }
 ],
 "metadata": {
  "kernelspec": {
   "display_name": "Python 3 (ipykernel)",
   "language": "python",
   "name": "python3"
  },
  "language_info": {
   "codemirror_mode": {
    "name": "ipython",
    "version": 3
   },
   "file_extension": ".py",
   "mimetype": "text/x-python",
   "name": "python",
   "nbconvert_exporter": "python",
   "pygments_lexer": "ipython3",
   "version": "3.10.9"
  }
 },
 "nbformat": 4,
 "nbformat_minor": 5
}
