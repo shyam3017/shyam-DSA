{
 "cells": [
  {
   "cell_type": "code",
   "execution_count": 1,
   "id": "1c1edcfe",
   "metadata": {},
   "outputs": [
    {
     "name": "stdout",
     "output_type": "stream",
     "text": [
      "85\n",
      "85\n",
      "85\n"
     ]
    }
   ],
   "source": [
    "def addTo80(n):\n",
    "    return n + 80\n",
    "\n",
    "print(addTo80(5))\n",
    "print(addTo80(5))\n",
    "print(addTo80(5))"
   ]
  },
  {
   "cell_type": "code",
   "execution_count": 2,
   "id": "ebe693a2",
   "metadata": {},
   "outputs": [
    {
     "name": "stdout",
     "output_type": "stream",
     "text": [
      "long time\n",
      "85\n",
      "long time\n",
      "86\n",
      "85\n"
     ]
    }
   ],
   "source": [
    "cache = {}\n",
    "def memoizedAddTo80(n):\n",
    "    if n in cache:\n",
    "        return cache[n]\n",
    "    else:\n",
    "        print(\"long time\")\n",
    "        cache[n] = n + 80\n",
    "        return cache[n]\n",
    "    \n",
    "print(memoizedAddTo80(5))\n",
    "print(memoizedAddTo80(6))\n",
    "print(memoizedAddTo80(5))"
   ]
  },
  {
   "cell_type": "code",
   "execution_count": 3,
   "id": "42430089",
   "metadata": {},
   "outputs": [
    {
     "name": "stdout",
     "output_type": "stream",
     "text": [
      "long time\n",
      "85\n",
      "85\n"
     ]
    }
   ],
   "source": [
    "# cache in local scope\n",
    "\n",
    "def memoizedAddTo80():\n",
    "    cache = {}\n",
    "    def mem(n):\n",
    "        if n in cache:\n",
    "            return cache[n]\n",
    "        else:\n",
    "            print(\"long time\")\n",
    "            cache[n] = n + 80\n",
    "            return cache[n]\n",
    "    return mem\n",
    "\n",
    "memoized = memoizedAddTo80()\n",
    "print(memoized(5))\n",
    "print(memoized(5))"
   ]
  },
  {
   "cell_type": "code",
   "execution_count": 6,
   "id": "666c9db7",
   "metadata": {},
   "outputs": [
    {
     "name": "stdout",
     "output_type": "stream",
     "text": [
      "832040 2692537\n"
     ]
    }
   ],
   "source": [
    "# Actual fibonacci code -- Time complexity - O(2^n) - Space complexity - O(1)\n",
    "# 0, 1, 1, 2, 3, 5, 8, 13, 21, 34, 55, ...\n",
    "\n",
    "cal = 0\n",
    "def fibonacci(n):\n",
    "    global cal \n",
    "    cal += 1\n",
    "    if n < 2:\n",
    "        return n\n",
    "    return fibonacci(n - 1) + fibonacci(n - 2)\n",
    "\n",
    "print(fibonacci(30), cal)\n"
   ]
  },
  {
   "cell_type": "code",
   "execution_count": 2,
   "id": "168c6426",
   "metadata": {},
   "outputs": [
    {
     "name": "stdout",
     "output_type": "stream",
     "text": [
      "12586269025 99\n"
     ]
    }
   ],
   "source": [
    "# Now we will use DYNAMIC PROGRAMMING\n",
    "# Time complexity - O(n)\n",
    "# Space complexity - O(h) h - height of the tree\n",
    "cal = 0\n",
    "\n",
    "def fibonacciUsingDP():\n",
    "    cache = {}\n",
    "    def fib(n):\n",
    "        global cal\n",
    "        cal += 1\n",
    "        if n < 2:\n",
    "            return n\n",
    "        else:\n",
    "            if n in cache:\n",
    "                return cache[n]\n",
    "            else:\n",
    "                cache[n] = fib(n - 1) + fib(n - 2)\n",
    "                return cache[n]\n",
    "    return fib\n",
    "\n",
    "fast_fib = fibonacciUsingDP()\n",
    "print(fast_fib(50), cal)"
   ]
  },
  {
   "cell_type": "code",
   "execution_count": 6,
   "id": "da535514",
   "metadata": {},
   "outputs": [
    {
     "name": "stdout",
     "output_type": "stream",
     "text": [
      "55\n"
     ]
    }
   ],
   "source": [
    "# Backtracking or bottom up approach - Hard to come up with - Time complexity - O(n)\n",
    "\n",
    "def DP(n):\n",
    "    series = [0, 1]\n",
    "    for x in range(2, n + 1):\n",
    "        series.append(series[x - 1] +series[x - 2])\n",
    "    return series[n]\n",
    "\n",
    "print(DP(10))"
   ]
  },
  {
   "cell_type": "code",
   "execution_count": null,
   "id": "44b35e3f",
   "metadata": {},
   "outputs": [],
   "source": []
  }
 ],
 "metadata": {
  "kernelspec": {
   "display_name": "Python 3 (ipykernel)",
   "language": "python",
   "name": "python3"
  },
  "language_info": {
   "codemirror_mode": {
    "name": "ipython",
    "version": 3
   },
   "file_extension": ".py",
   "mimetype": "text/x-python",
   "name": "python",
   "nbconvert_exporter": "python",
   "pygments_lexer": "ipython3",
   "version": "3.10.9"
  }
 },
 "nbformat": 4,
 "nbformat_minor": 5
}
