{
 "cells": [
  {
   "cell_type": "code",
   "execution_count": 8,
   "id": "70f4e2cf",
   "metadata": {},
   "outputs": [
    {
     "name": "stdout",
     "output_type": "stream",
     "text": [
      "[1, 2, 3, 3, 4, 5, 5, 8, 20, 29]\n"
     ]
    }
   ],
   "source": [
    "# Selection sort\n",
    "\n",
    "arr = [29, 3, 5, 1, 5, 3, 20, 2, 8, 4]\n",
    "\n",
    "def selectionSort(nums):\n",
    "    length = len(nums)\n",
    "    for i in range(length):\n",
    "        mini = i\n",
    "        temp = nums[i]\n",
    "        for j in range(i + 1, length):\n",
    "            if nums[j] < nums[mini]:\n",
    "                mini = j\n",
    "        nums[i] = nums[mini]\n",
    "        nums[mini] = temp\n",
    "        \n",
    "    return nums\n",
    "\n",
    "print(selectionSort(arr))"
   ]
  },
  {
   "cell_type": "code",
   "execution_count": null,
   "id": "15415755",
   "metadata": {},
   "outputs": [],
   "source": []
  },
  {
   "cell_type": "code",
   "execution_count": null,
   "id": "6492b2e4",
   "metadata": {},
   "outputs": [],
   "source": []
  }
 ],
 "metadata": {
  "kernelspec": {
   "display_name": "Python 3 (ipykernel)",
   "language": "python",
   "name": "python3"
  },
  "language_info": {
   "codemirror_mode": {
    "name": "ipython",
    "version": 3
   },
   "file_extension": ".py",
   "mimetype": "text/x-python",
   "name": "python",
   "nbconvert_exporter": "python",
   "pygments_lexer": "ipython3",
   "version": "3.10.9"
  }
 },
 "nbformat": 4,
 "nbformat_minor": 5
}
