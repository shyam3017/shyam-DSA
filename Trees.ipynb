{
 "cells": [
  {
   "cell_type": "markdown",
   "id": "c5716a3e",
   "metadata": {},
   "source": [
    "# Binary search trees (BST)"
   ]
  },
  {
   "cell_type": "code",
   "execution_count": 26,
   "id": "9bd0ce67",
   "metadata": {},
   "outputs": [],
   "source": [
    "# BST constructor\n",
    "\n",
    "class Node:\n",
    "    def __init__(self, value):\n",
    "        self.value = value\n",
    "        self.left = None\n",
    "        self.right = None\n",
    "\n",
    "class BST:\n",
    "    def __init__(self):\n",
    "        self.root = None\n",
    "        \n",
    "    def insert(self, value):\n",
    "        new_node = Node(value)\n",
    "        if self.root is None:\n",
    "            self.root = new_node\n",
    "            return True\n",
    "        \n",
    "        temp = self.root\n",
    "        \n",
    "        while True:\n",
    "            if new_node.value == temp.value:\n",
    "                return False\n",
    "            if new_node.value < temp.value:\n",
    "                if temp.left is None:\n",
    "                    temp.left = new_node\n",
    "                    return True\n",
    "                temp = temp.left\n",
    "            else:\n",
    "                if temp.right is None:\n",
    "                    temp.right = new_node\n",
    "                    return True\n",
    "                temp = temp.right\n",
    "                \n",
    "    def lookup(self, value):\n",
    "        temp = self.root\n",
    "        \n",
    "        while temp is not None:\n",
    "            if value < temp.value:\n",
    "                temp = temp.left\n",
    "            elif value > temp.value:\n",
    "                temp = temp.right\n",
    "            else:\n",
    "                return True\n",
    "        \n",
    "        return False\n",
    "    \n",
    "    def remove(value):\n",
    "        "
   ]
  },
  {
   "cell_type": "code",
   "execution_count": 28,
   "id": "65a37f6f",
   "metadata": {},
   "outputs": [
    {
     "name": "stdout",
     "output_type": "stream",
     "text": [
      "False\n",
      "9\n",
      "4\n",
      "20\n"
     ]
    }
   ],
   "source": [
    "my_tree = BST()\n",
    "my_tree.insert(9)\n",
    "my_tree.insert(4)\n",
    "my_tree.insert(20)\n",
    "my_tree.insert(1)\n",
    "my_tree.insert(6)\n",
    "my_tree.insert(15)\n",
    "my_tree.insert(170)\n",
    "\n",
    "print(my_tree.lookup(99))\n",
    "print(my_tree.root.value)\n",
    "print(my_tree.root.left.value)\n",
    "print(my_tree.root.right.value)"
   ]
  },
  {
   "cell_type": "code",
   "execution_count": null,
   "id": "07e4d7f2",
   "metadata": {},
   "outputs": [],
   "source": []
  },
  {
   "cell_type": "code",
   "execution_count": null,
   "id": "e81d2eef",
   "metadata": {},
   "outputs": [],
   "source": []
  },
  {
   "cell_type": "code",
   "execution_count": null,
   "id": "311cb052",
   "metadata": {},
   "outputs": [],
   "source": []
  }
 ],
 "metadata": {
  "kernelspec": {
   "display_name": "Python 3 (ipykernel)",
   "language": "python",
   "name": "python3"
  },
  "language_info": {
   "codemirror_mode": {
    "name": "ipython",
    "version": 3
   },
   "file_extension": ".py",
   "mimetype": "text/x-python",
   "name": "python",
   "nbconvert_exporter": "python",
   "pygments_lexer": "ipython3",
   "version": "3.10.9"
  }
 },
 "nbformat": 4,
 "nbformat_minor": 5
}
