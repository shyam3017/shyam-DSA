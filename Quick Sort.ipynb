{
 "cells": [
  {
   "cell_type": "code",
   "execution_count": 3,
   "id": "66b2b397",
   "metadata": {},
   "outputs": [
    {
     "name": "stdout",
     "output_type": "stream",
     "text": [
      "[1, 2, 3, 3, 5, 5, 8, 20, 29]\n"
     ]
    }
   ],
   "source": [
    "# Quick sort\n",
    "\n",
    "def quickSort(nums):\n",
    "    N = len(nums)\n",
    "    if N < 2:\n",
    "        return nums\n",
    "    \n",
    "    pivit = nums[0]\n",
    "    higher = []\n",
    "    lower = []\n",
    "    \n",
    "    for x in range(1, N):\n",
    "        if nums[x] < pivit:\n",
    "            lower.append(nums[x])\n",
    "        else:\n",
    "            higher.append(nums[x])\n",
    "    \n",
    "    return quickSort(lower) + [pivit] + quickSort(higher)\n",
    "\n",
    "arr = [20, 8, 2, 29, 5, 3, 1, 5, 3]\n",
    "print(quickSort(arr))"
   ]
  },
  {
   "cell_type": "markdown",
   "id": "1b42bb95",
   "metadata": {},
   "source": [
    "#### Time complexity of bubble sort\n",
    "\n",
    "    Best case - O(n log n)\n",
    "    Average case - O(n log n)\n",
    "    Worst case - O(n log n)\n",
    "\n",
    "#### Space complexity of bubble sort\n",
    "\n",
    "    O(n)"
   ]
  }
 ],
 "metadata": {
  "kernelspec": {
   "display_name": "Python 3 (ipykernel)",
   "language": "python",
   "name": "python3"
  },
  "language_info": {
   "codemirror_mode": {
    "name": "ipython",
    "version": 3
   },
   "file_extension": ".py",
   "mimetype": "text/x-python",
   "name": "python",
   "nbconvert_exporter": "python",
   "pygments_lexer": "ipython3",
   "version": "3.10.9"
  }
 },
 "nbformat": 4,
 "nbformat_minor": 5
}
