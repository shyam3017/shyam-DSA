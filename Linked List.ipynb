{
 "cells": [
  {
   "cell_type": "code",
   "execution_count": 1,
   "id": "96dc3e76",
   "metadata": {},
   "outputs": [],
   "source": [
    "# Linked List\n",
    "# Time complexities in Linked list\n",
    "# Prepend       --> O(1)\n",
    "# Append        --> O(1)\n",
    "# Lookup/Search --> O(n)\n",
    "# Insert        --> O(n)\n",
    "# Delete        --> O(n)\n",
    "# What is a pointer?\n",
    "# Ity's a reference to another object/node/element"
   ]
  },
  {
   "cell_type": "code",
   "execution_count": 1,
   "id": "ca1efb2e",
   "metadata": {},
   "outputs": [
    {
     "ename": "NameError",
     "evalue": "name 'current_node' is not defined",
     "output_type": "error",
     "traceback": [
      "\u001b[1;31m---------------------------------------------------------------------------\u001b[0m",
      "\u001b[1;31mNameError\u001b[0m                                 Traceback (most recent call last)",
      "Cell \u001b[1;32mIn[1], line 41\u001b[0m\n\u001b[0;32m     39\u001b[0m myLinkedList \u001b[38;5;241m=\u001b[39m LinkedList()\n\u001b[0;32m     40\u001b[0m myLinkedList\u001b[38;5;241m.\u001b[39mprepend(\u001b[38;5;241m6\u001b[39m)\n\u001b[1;32m---> 41\u001b[0m \u001b[43mmyLinkedList\u001b[49m\u001b[38;5;241;43m.\u001b[39;49m\u001b[43mappend\u001b[49m\u001b[43m(\u001b[49m\u001b[38;5;241;43m-\u001b[39;49m\u001b[38;5;241;43m6\u001b[39;49m\u001b[43m)\u001b[49m\n\u001b[0;32m     42\u001b[0m myLinkedList\u001b[38;5;241m.\u001b[39mprint_()\n",
      "Cell \u001b[1;32mIn[1], line 29\u001b[0m, in \u001b[0;36mLinkedList.append\u001b[1;34m(self, value)\u001b[0m\n\u001b[0;32m     26\u001b[0m \u001b[38;5;28;01mwhile\u001b[39;00m last_node\u001b[38;5;241m.\u001b[39mnext:\n\u001b[0;32m     27\u001b[0m     last_node \u001b[38;5;241m=\u001b[39m las\u001b[38;5;241m.\u001b[39mnext\n\u001b[1;32m---> 29\u001b[0m \u001b[43mcurrent_node\u001b[49m\u001b[38;5;241m.\u001b[39mnext \u001b[38;5;241m=\u001b[39m new_node\n",
      "\u001b[1;31mNameError\u001b[0m: name 'current_node' is not defined"
     ]
    }
   ],
   "source": [
    "class Node:\n",
    "    def __init__(self, value):\n",
    "        self.value = value\n",
    "        self.next = None\n",
    "        \n",
    "class LinkedList:\n",
    "    def __init__(self):\n",
    "        self.head = None\n",
    "    \n",
    "    def prepend(self, value):\n",
    "        new_node = Node(value)\n",
    "        if self.head is None:\n",
    "            self.head = new_node\n",
    "            return \n",
    "        else:\n",
    "            new_node.next = self.head\n",
    "            self.head = new_node\n",
    "    \n",
    "    def append(self, value):\n",
    "        new_node = Node(value)\n",
    "        if self.head is None:\n",
    "            self.head = new_node\n",
    "            return\n",
    "        \n",
    "        last_node = self.head\n",
    "        while last_node.next:\n",
    "            last_node = last_node.next\n",
    "            \n",
    "        current_node.next = new_node\n",
    "    \n",
    "    def print_(self):\n",
    "        res = []\n",
    "        current_node = self.head\n",
    "        while current_node:\n",
    "            res.append(current_node.value)\n",
    "            current_node = current_node.next\n",
    "        return res\n",
    "\n",
    "myLinkedList = LinkedList()\n",
    "myLinkedList.prepend(6)\n",
    "myLinkedList.append(-6)\n",
    "myLinkedList.print_()"
   ]
  },
  {
   "cell_type": "code",
   "execution_count": null,
   "id": "3b5c74fa",
   "metadata": {},
   "outputs": [],
   "source": []
  }
 ],
 "metadata": {
  "kernelspec": {
   "display_name": "Python 3 (ipykernel)",
   "language": "python",
   "name": "python3"
  },
  "language_info": {
   "codemirror_mode": {
    "name": "ipython",
    "version": 3
   },
   "file_extension": ".py",
   "mimetype": "text/x-python",
   "name": "python",
   "nbconvert_exporter": "python",
   "pygments_lexer": "ipython3",
   "version": "3.10.9"
  }
 },
 "nbformat": 4,
 "nbformat_minor": 5
}
