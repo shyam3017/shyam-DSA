{
 "cells": [
  {
   "cell_type": "code",
   "execution_count": 1,
   "id": "8834a0a1",
   "metadata": {},
   "outputs": [
    {
     "name": "stdout",
     "output_type": "stream",
     "text": [
      "[5, 6, 11, 12, 13]\n"
     ]
    }
   ],
   "source": [
    "# Insertion sort\n",
    "\n",
    "def insertionSort(arr):\n",
    "\tn = len(arr)\n",
    "\t\n",
    "\tif n <= 1:\n",
    "\t\treturn\n",
    "\n",
    "\tfor i in range(1, n):\n",
    "\t\tkey = arr[i]\n",
    "\t\tj = i-1\n",
    "\t\twhile j >= 0 and key < arr[j]:\n",
    "\t\t\tarr[j+1] = arr[j]\n",
    "\t\t\tj -= 1\n",
    "\t\tarr[j+1] = key\n",
    "\n",
    "arr = [12, 11, 13, 5, 6]\n",
    "insertionSort(arr)\n",
    "print(arr)\n"
   ]
  },
  {
   "cell_type": "markdown",
   "id": "901d79c5",
   "metadata": {},
   "source": [
    "#### Time complexity of bubble sort\n",
    "\n",
    "    Best case - O(n)\n",
    "    Average case - O(n^2)\n",
    "    Worst case - O(n^2)\n",
    "\n",
    "#### Space complexity of bubble sort\n",
    "\n",
    "    O(1)"
   ]
  },
  {
   "cell_type": "code",
   "execution_count": null,
   "id": "32751ec1",
   "metadata": {},
   "outputs": [],
   "source": []
  }
 ],
 "metadata": {
  "kernelspec": {
   "display_name": "Python 3 (ipykernel)",
   "language": "python",
   "name": "python3"
  },
  "language_info": {
   "codemirror_mode": {
    "name": "ipython",
    "version": 3
   },
   "file_extension": ".py",
   "mimetype": "text/x-python",
   "name": "python",
   "nbconvert_exporter": "python",
   "pygments_lexer": "ipython3",
   "version": "3.10.9"
  }
 },
 "nbformat": 4,
 "nbformat_minor": 5
}
