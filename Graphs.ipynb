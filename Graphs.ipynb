{
 "cells": [
  {
   "cell_type": "code",
   "execution_count": 1,
   "id": "e7d7c849",
   "metadata": {},
   "outputs": [],
   "source": [
    "# Edge List\n",
    "graph = [[0, 2], [2, 3], [2, 1], [1, 3]]\n",
    "\n",
    "\n",
    "# Adjacent List\n",
    "graph = [[2], [2, 3], [0, 1, 3], [1, 2]]\n",
    "\n",
    "\n",
    "#Adjacent Matrix\n",
    "graph = [\n",
    "    [0, 0, 1, 0],\n",
    "    [0, 0, 1, 1],\n",
    "    [1, 1, 0, 1],\n",
    "    [0, 1, 1, 0]\n",
    "]"
   ]
  },
  {
   "cell_type": "code",
   "execution_count": 1,
   "id": "c710144e",
   "metadata": {},
   "outputs": [],
   "source": [
    "class Graph:\n",
    "    def __init__(self):\n",
    "        self.no_of_nodes = 0\n",
    "        self.adjacentList = {}\n",
    "        \n",
    "    def addVertex(self, node):\n",
    "        self.adjacentList[node] = []\n",
    "        self.no_of_nodes += 1\n",
    "        \n",
    "    def addEdges(self, node1, node2):\n",
    "        self.adjacentList[node1].append(node2)\n",
    "        self.adjacentList[node2].append(node1)\n",
    "        \n",
    "        \n",
    "graph = Graph()\n",
    "graph.addVertex(0)\n",
    "graph.addVertex(1)\n",
    "graph.addVertex(2)\n",
    "graph.addVertex(3)\n",
    "graph.addEdges(0, 1)\n",
    "graph.addEdges(0, 2)\n",
    "graph.addEdges(1, 2)\n",
    "graph.addEdges(2, 3)\n",
    "        "
   ]
  },
  {
   "cell_type": "code",
   "execution_count": null,
   "id": "8fbd1c60",
   "metadata": {},
   "outputs": [],
   "source": []
  }
 ],
 "metadata": {
  "kernelspec": {
   "display_name": "Python 3 (ipykernel)",
   "language": "python",
   "name": "python3"
  },
  "language_info": {
   "codemirror_mode": {
    "name": "ipython",
    "version": 3
   },
   "file_extension": ".py",
   "mimetype": "text/x-python",
   "name": "python",
   "nbconvert_exporter": "python",
   "pygments_lexer": "ipython3",
   "version": "3.10.9"
  }
 },
 "nbformat": 4,
 "nbformat_minor": 5
}
